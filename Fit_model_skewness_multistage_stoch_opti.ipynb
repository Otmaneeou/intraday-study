{
 "cells": [
  {
   "cell_type": "code",
   "execution_count": 1,
   "id": "d9734bef",
   "metadata": {},
   "outputs": [],
   "source": [
    "import os\n",
    "import numpy as np\n",
    "import pandas as pd\n",
    "import matplotlib.pyplot as plt\n",
    "from scipy.optimize import minimize\n",
    "import pyomo.environ as po\n",
    "from scipy.stats import skewnorm, skew \n",
    "from sklearn.preprocessing import StandardScaler\n",
    "from sklearn.linear_model import LinearRegression, OrthogonalMatchingPursuit"
   ]
  },
  {
   "cell_type": "code",
   "execution_count": 2,
   "id": "7f0ab135",
   "metadata": {},
   "outputs": [],
   "source": [
    "# 1. Load real data\n",
    "# -----------------------------\n",
    "current_hour = 6    # current hour (hnow)\n",
    "predict_hour = 14   # hour to predict (hpred)\n",
    "folder = r\"C:\\Users\\Oulmekki\\Desktop\\masterarbeit\\Regression_Data\"\n",
    "file_str = \"EPEXdata__p771_nowH{0:02d}D_predH{1:02d}D_D231230_train200102-231230.npz\".format(current_hour, predict_hour)\n",
    "full_path = os.path.join(folder, file_str)"
   ]
  },
  {
   "cell_type": "code",
   "execution_count": 3,
   "id": "fabf65b3",
   "metadata": {},
   "outputs": [],
   "source": [
    "with np.load(full_path, allow_pickle=True) as data:\n",
    "    X_all = data['Xdat']         # design matrix (features)\n",
    "    y_all = data['ydat']         # target vector\n",
    "    features = data['feats']     # feature names"
   ]
  },
  {
   "cell_type": "code",
   "execution_count": 4,
   "id": "a6b9d68e",
   "metadata": {},
   "outputs": [
    {
     "name": "stdout",
     "output_type": "stream",
     "text": [
      "Initial shape of X all: (1457, 699)\n",
      "Initial shape of y_all (1457,)\n"
     ]
    }
   ],
   "source": [
    "print(\"Initial shape of X all:\", X_all.shape)\n",
    "print(\"Initial shape of y_all\", y_all.shape)      "
   ]
  },
  {
   "cell_type": "code",
   "execution_count": 5,
   "id": "3f552878",
   "metadata": {},
   "outputs": [
    {
     "name": "stdout",
     "output_type": "stream",
     "text": [
      "After cleaning, shape of X: (1457, 698)\n",
      "After cleaning, shape of y: (1457,)\n"
     ]
    }
   ],
   "source": [
    "# -----------------------------\n",
    "# 2. Interpolate and clean missing values (NaN)\n",
    "# -----------------------------\n",
    "df_X = pd.DataFrame(X_all, columns=features)\n",
    "df_y = pd.DataFrame(y_all, columns=[\"target\"])\n",
    "\n",
    "df_X_interp = df_X.interpolate(method='linear', limit_direction='both')\n",
    "df_X_nonan = df_X_interp.dropna(axis=1, how='all')\n",
    "df_X_Clean = df_X_nonan.fillna(df_X_nonan.mean())\n",
    "\n",
    "df_y_interp = df_y.interpolate(methode='linear', limit_direction='both')\n",
    "df_y_clean = df_y_interp.fillna(df_y_interp.mean())\n",
    "\n",
    "df_combined = pd.concat([df_X_Clean, df_y_clean], axis=1)\n",
    "df_final = df_combined.dropna(axis=0, how='any')\n",
    "\n",
    "X = df_final[df_X_Clean.columns].values\n",
    "y = df_final[\"target\"].values.ravel()\n",
    "\n",
    "assert not np.isnan(X).any(), \"X still contains NaN values!\"\n",
    "assert not np.isnan(y).any(), \"y still contains NaN values!\"\n",
    "print(\"After cleaning, shape of X:\", X.shape)\n",
    "print(\"After cleaning, shape of y:\", y.shape)\n"
   ]
  },
  {
   "cell_type": "code",
   "execution_count": 6,
   "id": "231ddab9",
   "metadata": {},
   "outputs": [],
   "source": [
    "n_samples = X.shape[0]\n",
    "train_end = int(n_samples * 0.70)\n",
    "val_end = train_end + int(n_samples * 0.15)"
   ]
  },
  {
   "cell_type": "code",
   "execution_count": 7,
   "id": "610a0909",
   "metadata": {},
   "outputs": [
    {
     "name": "stdout",
     "output_type": "stream",
     "text": [
      "Train set shape: (1019, 698)\n",
      "Validation of shape: (218, 698)\n",
      "Test set shape (220, 698)\n"
     ]
    }
   ],
   "source": [
    "X_train = X[:train_end, :]\n",
    "y_train = y[:train_end]\n",
    "X_val = X[train_end:val_end, :]\n",
    "y_val = y[train_end:val_end]\n",
    "X_test = X[val_end:, :]\n",
    "y_test = y[val_end:]\n",
    "\n",
    "print(\"Train set shape:\", X_train.shape)\n",
    "print(\"Validation of shape:\", X_val.shape)\n",
    "print(\"Test set shape\", X_test.shape)"
   ]
  },
  {
   "cell_type": "code",
   "execution_count": 8,
   "id": "ea2ad31f",
   "metadata": {},
   "outputs": [],
   "source": [
    "# -----------------------------\n",
    "# 3. Add Intercept and Standardize Features (Fit scaler on training set)\n",
    "# -----------------------------\n",
    "# Add intercept to training data\n",
    "X_train_intercept = np.hstack([np.ones((X_train.shape[0], 1)), X_train])"
   ]
  },
  {
   "cell_type": "code",
   "execution_count": 9,
   "id": "e119660d",
   "metadata": {},
   "outputs": [],
   "source": [
    "# Fit scaler on training features (excluding intercept)\n",
    "scaler = StandardScaler()\n",
    "X_train_std_features = scaler.fit_transform(X_train_intercept[:, 1:])\n",
    "X_train_std = np.hstack([X_train_intercept[:, [0]], X_train_std_features])"
   ]
  },
  {
   "cell_type": "code",
   "execution_count": 10,
   "id": "19c2a5e8",
   "metadata": {},
   "outputs": [],
   "source": [
    "# Apply the same transformation to validation and test sets\n",
    "X_val_intercept = np.hstack([np.ones((X_val.shape[0], 1)), X_val])\n",
    "X_val_std_features = scaler.transform(X_val_intercept[:, 1:])\n",
    "X_val_std = np.hstack([X_val_intercept[:, [0]], X_val_std_features])\n",
    "\n",
    "X_test_intercept = np.hstack([np.ones((X_test.shape[0], 1)), X_test])\n",
    "X_test_std_features = scaler.transform(X_test_intercept[:, 1:])\n",
    "X_test_std = np.hstack([X_test_intercept[:, [0]], X_test_std_features])"
   ]
  },
  {
   "cell_type": "code",
   "execution_count": 11,
   "id": "c24b2fe5",
   "metadata": {},
   "outputs": [],
   "source": [
    "nfeat = 20  # Maximum number of features to select\n",
    "omp = OrthogonalMatchingPursuit(fit_intercept=False, n_nonzero_coefs=nfeat)\n",
    "omp.fit(X_train_std, y_train)\n",
    "selected_indices = np.where(omp.coef_ != 0)[0]"
   ]
  },
  {
   "cell_type": "code",
   "execution_count": 12,
   "id": "f8847d28",
   "metadata": {},
   "outputs": [
    {
     "name": "stdout",
     "output_type": "stream",
     "text": [
      "Shape of X_train_std after OMP feature selection: (1019, 20)\n"
     ]
    }
   ],
   "source": [
    "# Reduce feature space on all sets using the selected indices\n",
    "X_train_std = X_train_std[:, selected_indices]\n",
    "X_val_std   = X_val_std[:, selected_indices]\n",
    "X_test_std  = X_test_std[:, selected_indices]\n",
    "\n",
    "print(\"Shape of X_train_std after OMP feature selection:\", X_train_std.shape)"
   ]
  },
  {
   "cell_type": "code",
   "execution_count": 13,
   "id": "7c926c2a",
   "metadata": {},
   "outputs": [],
   "source": [
    "# Update number of features\n",
    "n_features = X_train_std.shape[1]"
   ]
  },
  {
   "cell_type": "code",
   "execution_count": 14,
   "id": "8d2f97f3",
   "metadata": {},
   "outputs": [
    {
     "name": "stdout",
     "output_type": "stream",
     "text": [
      "OLS weights (initial guess for w): [ 92.95539473 104.18706954  -3.66149569  -2.12933839  -2.2423674\n",
      "   1.70346593   2.28218665  -1.48265352  -3.55568759   2.71261753\n",
      "   2.5145655   -5.05872019  -2.83911887   5.69776545  -1.7002261\n",
      "  -3.23136516  -4.80356098  -3.03280834   2.7331877    1.9793457 ]\n"
     ]
    }
   ],
   "source": [
    "# 4. Estimate Initial Weights (OLS) on the Training Set\n",
    "# -----------------------------\n",
    "reg = LinearRegression(fit_intercept=False)\n",
    "reg.fit(X_train_std, y_train)\n",
    "initial_weights = reg.coef_\n",
    "print(\"OLS weights (initial guess for w):\", initial_weights)"
   ]
  },
  {
   "cell_type": "code",
   "execution_count": 15,
   "id": "390fb30d",
   "metadata": {},
   "outputs": [],
   "source": [
    "def negative_log_likelihood(params, X, y):\n",
    "    alpha =params[0]  #Learn alpha directly\n",
    "    sigma = params[1]\n",
    "    w = params[2:]\n",
    "    mu = X @ w \n",
    "    return -np.sum(skewnorm.logpdf(y, a=alpha, loc=mu, scale=sigma))"
   ]
  },
  {
   "cell_type": "code",
   "execution_count": 16,
   "id": "007c8d5a",
   "metadata": {},
   "outputs": [],
   "source": [
    "empirical_alpha = skew(y)\n",
    "empirical_sigma = np.std(y)"
   ]
  },
  {
   "cell_type": "code",
   "execution_count": 17,
   "id": "fae54e84",
   "metadata": {},
   "outputs": [],
   "source": [
    "initial_guess = [empirical_alpha, empirical_sigma] + list(initial_weights)\n",
    "# Bounds: let alpha vary freely, sigma positive, weights free\n",
    "bounds = [(-10, 10), (1e-6, np.inf)] + [(-np.inf, np.inf)] * n_features\n",
    "\n",
    "# Optimization\n",
    "result = minimize(negative_log_likelihood, initial_guess, args=(X_train_std, y_train),\n",
    "                  bounds=bounds, method='L-BFGS-B')\n"
   ]
  },
  {
   "cell_type": "code",
   "execution_count": 18,
   "id": "3e1d3529",
   "metadata": {},
   "outputs": [
    {
     "name": "stdout",
     "output_type": "stream",
     "text": [
      "\n",
      "--- Learned Parameters (using empirical alpha init) ---\n",
      "Optimal skewness (alpha): 1.0596\n",
      "Optimal scale (sigma):    21.5822\n",
      "Weights (w):              [ 80.57448897 103.0355866   -3.84177026  -2.28761925  -2.57112946\n",
      "   1.69215849   2.28866326  -1.47984913  -3.46916544   2.79256719\n",
      "   2.54032103  -5.39565909  -2.99498383   6.14560882  -1.8769034\n",
      "  -3.44996352  -4.82009797  -3.42452757   2.6638135    2.18390237]\n"
     ]
    }
   ],
   "source": [
    "# Extract optimal parameters\n",
    "alpha_optimal = result.x[0]\n",
    "sigma_optimal = result.x[1]\n",
    "w_optimal = result.x[2:]\n",
    "\n",
    "print(\"\\n--- Learned Parameters (using empirical alpha init) ---\")\n",
    "print(f\"Optimal skewness (alpha): {alpha_optimal:.4f}\")\n",
    "print(f\"Optimal scale (sigma):    {sigma_optimal:.4f}\")\n",
    "print(f\"Weights (w):              {w_optimal}\")"
   ]
  },
  {
   "cell_type": "code",
   "execution_count": 19,
   "id": "2a0e34cc",
   "metadata": {},
   "outputs": [
    {
     "data": {
      "image/png": "[encoded data removed]",
      "text/plain": [
       "<Figure size 1000x600 with 1 Axes>"
      ]
     },
     "metadata": {},
     "output_type": "display_data"
    }
   ],
   "source": [
    "# 6. Build Predictive Distribution for a New Data Point from the Test Set\n",
    "# -----------------------------\n",
    "# For demonstration, we'll take the first test data point.\n",
    "X_new = X_test_std[0, :]\n",
    "mu_new = X_new @ w_optimal\n",
    "dist_new = skewnorm(a=alpha_optimal, loc=mu_new, scale=sigma_optimal)\n",
    "\n",
    "y_values = np.linspace(mu_new - 3 * sigma_optimal, mu_new +3 * sigma_optimal, 1000)\n",
    "pdf_values = dist_new.pdf(y_values)\n",
    "\n",
    "plt.figure(figsize=(10, 6))\n",
    "plt.plot(y_values, pdf_values,\n",
    "         label=f'Skew-Normal (α={alpha_optimal:.2f}, μ={mu_new:.2f}, σ={sigma_optimal:.2f})')\n",
    "plt.xlabel('y')\n",
    "plt.ylabel('Density')\n",
    "plt.title('Predictive Distribution for a New Test Data Point')\n",
    "plt.legend()\n",
    "plt.grid(True)\n",
    "plt.show()"
   ]
  },
  {
   "cell_type": "code",
   "execution_count": 20,
   "id": "3d2cbbed",
   "metadata": {},
   "outputs": [],
   "source": [
    "N_q = 50\n",
    "N_h = 12\n",
    "# standardized features for future time steps\n",
    "X_future_std = X_test_std[-N_h:, :]\n",
    "\n",
    "mu = X_future_std @ w_optimal   # predicted mean\n",
    "sigma = np.full_like(mu, sigma_optimal) # constant std\n",
    "alpha = np.full_like(mu, alpha_optimal)  # constant skewness"
   ]
  },
  {
   "cell_type": "code",
   "execution_count": 21,
   "id": "348351be",
   "metadata": {},
   "outputs": [
    {
     "name": "stdout",
     "output_type": "stream",
     "text": [
      "Hour 01 | mu=0.50 | q[25]=4.25 | q[0]=-4.09 | q[-1]=12.92\n",
      "Hour 02 | mu=0.48 | q[25]=4.23 | q[0]=-4.11 | q[-1]=12.90\n",
      "Hour 03 | mu=0.46 | q[25]=4.21 | q[0]=-4.13 | q[-1]=12.88\n",
      "Hour 04 | mu=0.45 | q[25]=4.20 | q[0]=-4.14 | q[-1]=12.87\n",
      "Hour 05 | mu=0.43 | q[25]=4.18 | q[0]=-4.16 | q[-1]=12.85\n",
      "Hour 06 | mu=0.41 | q[25]=4.16 | q[0]=-4.18 | q[-1]=12.83\n",
      "Hour 07 | mu=0.39 | q[25]=4.14 | q[0]=-4.20 | q[-1]=12.81\n",
      "Hour 08 | mu=0.37 | q[25]=4.12 | q[0]=-4.22 | q[-1]=12.79\n",
      "Hour 09 | mu=0.35 | q[25]=4.10 | q[0]=-4.24 | q[-1]=12.77\n",
      "Hour 10 | mu=0.34 | q[25]=4.09 | q[0]=-4.25 | q[-1]=12.76\n",
      "Hour 11 | mu=0.32 | q[25]=4.07 | q[0]=-4.27 | q[-1]=12.74\n",
      "Hour 12 | mu=0.30 | q[25]=4.05 | q[0]=-4.29 | q[-1]=12.72\n",
      "GLPSOL: GLPK LP/MIP Solver, v4.65\n",
      "Parameter(s) specified in the command line:\n",
      " --write C:\\Users\\Oulmekki\\AppData\\Local\\Temp\\tmpubwcvcu7.glpk.raw --wglp\n",
      " C:\\Users\\Oulmekki\\AppData\\Local\\Temp\\tmpp2gkiblm.glpk.glp --cpxlp C:\\Users\\Oulmekki\\AppData\\Local\\Temp\\tmpiflqlnli.pyomo.lp\n",
      "Reading problem data from 'C:\\Users\\Oulmekki\\AppData\\Local\\Temp\\tmpiflqlnli.pyomo.lp'...\n",
      "108 rows, 1284 columns, 3779 non-zeros\n",
      "5408 lines were read\n",
      "Writing problem data to 'C:\\Users\\Oulmekki\\AppData\\Local\\Temp\\tmpp2gkiblm.glpk.glp'...\n",
      "6482 lines were written\n",
      "GLPK Simplex Optimizer, v4.65\n",
      "108 rows, 1284 columns, 3779 non-zeros\n",
      "Preprocessing...\n",
      "84 rows, 1236 columns, 3695 non-zeros\n",
      "Scaling...\n",
      " A: min|aij| =  4.572e-03  max|aij| =  1.242e+01  ratio =  2.717e+03\n",
      "GM: min|aij| =  2.190e-01  max|aij| =  4.566e+00  ratio =  2.085e+01\n",
      "EQ: min|aij| =  4.796e-02  max|aij| =  1.000e+00  ratio =  2.085e+01\n",
      "Constructing initial basis...\n",
      "Size of triangular part is 84\n",
      "*     0: obj =  -0.000000000e+00 inf =   0.000e+00 (600)\n",
      "*   175: obj =   6.041077678e+04 inf =   0.000e+00 (0) 1\n",
      "OPTIMAL LP SOLUTION FOUND\n",
      "Time used:   0.0 secs\n",
      "Memory used: 1.2 Mb (1209808 bytes)\n",
      "Writing basic solution to 'C:\\Users\\Oulmekki\\AppData\\Local\\Temp\\tmpubwcvcu7.glpk.raw'...\n",
      "1401 lines were written\n"
     ]
    }
   ],
   "source": [
    "from pyomo.opt import SolverFactory\n",
    "\n",
    "storage_capacity = 1000\n",
    "initial_storage = 0\n",
    "penalty_factor = 10\n",
    "\n",
    "# Learned parameters\n",
    "mu = [0.50, 0.48, 0.46, 0.45, 0.43, 0.41, 0.39, 0.37, 0.35, 0.34, 0.32, 0.30]\n",
    "sigma = [6.0] * N_h\n",
    "alpha = [1.5] * N_h\n",
    "\n",
    "# Generate quantiles and match probabilities\n",
    "def generate_quantiles_and_match_probs(mu, sigma, alpha, N_q=50):\n",
    "    dist = skewnorm(a=alpha, loc=mu, scale=sigma)\n",
    "    p = np.array([(q + 1) / (N_q + 2) for q in range(N_q)])\n",
    "    quantiles = dist.ppf(p)\n",
    "    match_probs_buy = p\n",
    "    match_probs_sell = 1 - p\n",
    "    return quantiles, match_probs_buy, match_probs_sell\n",
    "\n",
    "quantiles_all = [[], []]  # [buy, sell]\n",
    "match_probs_all = [[], []]\n",
    "\n",
    "for t in range(N_h):\n",
    "    q, p_buy, p_sell = generate_quantiles_and_match_probs(mu[t], sigma[t], alpha[t], N_q)\n",
    "\n",
    "    # Debug : vérifier que les quantiles varient d'une heure à l'autre\n",
    "    print(f\"Hour {t+1:02d} | mu={mu[t]:.2f} | q[25]={q[25]:.2f} | q[0]={q[0]:.2f} | q[-1]={q[-1]:.2f}\")\n",
    "\n",
    "    quantiles_all[0].append(q)\n",
    "    quantiles_all[1].append(q)\n",
    "    match_probs_all[0].append(p_buy)\n",
    "    match_probs_all[1].append(p_sell)\n",
    "# Convert to dictionaries for Pyomo\n",
    "quantile_dict = {(s+1, t+1, q+1): quantiles_all[s][t][q]\n",
    "                 for s in range(2) for t in range(N_h) for q in range(N_q)}\n",
    "match_prob_dict = {(s+1, t+1, q+1): match_probs_all[s][t][q]\n",
    "                   for s in range(2) for t in range(N_h) for q in range(N_q)}\n",
    "\n",
    "# Pyomo model\n",
    "model = po.ConcreteModel()\n",
    "model.S = po.Set(initialize=[1, 2])\n",
    "model.T = po.RangeSet(1, N_h)\n",
    "model.Q = po.RangeSet(1, N_q)\n",
    "\n",
    "model.quantiles = po.Param(model.S, model.T, model.Q, initialize=quantile_dict)\n",
    "model.match_probs = po.Param(model.S, model.T, model.Q, initialize=match_prob_dict)\n",
    "\n",
    "model.volumes = po.Var(model.S, model.T, model.Q, domain=po.NonNegativeReals, bounds=(0, 1000))\n",
    "model.storage = po.Var(model.T, domain=po.NonNegativeReals, initialize=initial_storage)\n",
    "model.traded = po.Var(model.T, domain=po.Reals)\n",
    "model.profit = po.Var(model.T, bounds=(-1e6, 1e6))\n",
    "model.income = po.Var(model.T, bounds=(0, 1e6))\n",
    "model.expense = po.Var(model.T, bounds=(0, 1e6))\n",
    "model.discharge = po.Var(model.T, bounds=(0, storage_capacity))\n",
    "model.charge = po.Var(model.T, bounds=(0, storage_capacity))\n",
    "# Constraints\n",
    "def volume_balance_rule(m, t):\n",
    "    buy = sum(m.volumes[1, t, q] * m.match_probs[1, t, q] for q in m.Q)\n",
    "    sell = sum(m.volumes[2, t, q] * m.match_probs[2, t, q] for q in m.Q)\n",
    "    return buy == m.traded[t] + sell\n",
    "model.volume_balance = po.Constraint(model.T, rule=volume_balance_rule)\n",
    "\n",
    "def storage_balance(m, t):\n",
    "    if t == 1:\n",
    "        return m.storage[t] == initial_storage + m.traded[t] - m.discharge[t]\n",
    "    return m.storage[t] == m.storage[t-1] + m.traded[t] - m.discharge[t]\n",
    "model.storage_update = po.Constraint(model.T, rule=storage_balance)\n",
    "\n",
    "\n",
    "def storage_limit_rule(m, t):\n",
    "    return m.storage[t] <= storage_capacity\n",
    "model.storage_limit = po.Constraint(model.T, rule=storage_limit_rule)\n",
    "\n",
    "def sell_equals_discharge(m, t):\n",
    "    sold = sum(m.volumes[2, t, q] * m.match_probs[2, t, q] for q in m.Q)\n",
    "    return sold == m.discharge[t]\n",
    "model.sell_link = po.Constraint(model.T, rule=sell_equals_discharge)\n",
    "\n",
    "def buy_equals_charge(m, t):\n",
    "    bought = sum(m.volumes[1, t, q] * m.match_probs[1, t, q] for q in m.Q)\n",
    "    return bought == m.charge[t]\n",
    "model.buy_link = po.Constraint(model.T, rule=buy_equals_charge)\n",
    "\n",
    "def income_rule(m, t):\n",
    "    return m.income[t] == sum(m.volumes[2, t, q] * m.match_probs[2, t, q] * m.quantiles[2, t, q] for q in m.Q)\n",
    "model.income_calc = po.Constraint(model.T, rule=income_rule)\n",
    "\n",
    "def expense_rule(m, t):\n",
    "    return m.expense[t] == sum(m.volumes[1, t, q] * m.match_probs[1, t, q] * m.quantiles[1, t, q] for q in m.Q)\n",
    "model.expense_calc = po.Constraint(model.T, rule=expense_rule)\n",
    "\n",
    "def profit_rule(m, t):\n",
    "    return m.profit[t] == m.income[t] - m.expense[t]\n",
    "model.profit_calc = po.Constraint(model.T, rule=profit_rule)\n",
    "\n",
    "# Restrict discharge to available storage\n",
    "def discharge_limit(m, t):\n",
    "    return m.discharge[t] <= m.storage[t]\n",
    "model.discharge_cap = po.Constraint(model.T, rule=discharge_limit)\n",
    "\n",
    "\n",
    "# Objective\n",
    "def objective_rule(m):\n",
    "    return sum(m.profit[t] for t in m.T)\n",
    "model.objective = po.Objective(rule=objective_rule, sense=po.maximize)\n",
    "\n",
    "solver = SolverFactory(\"glpk\", executable=r\"C:\\Users\\Oulmekki\\Desktop\\glpk-4.65\\w64\\glpsol.exe\")\n",
    "results = solver.solve(model, tee=True)"
   ]
  },
  {
   "cell_type": "code",
   "execution_count": 22,
   "id": "b39bfbd5",
   "metadata": {},
   "outputs": [
    {
     "name": "stdout",
     "output_type": "stream",
     "text": [
      "\n",
      "--- Storage and Profit ---\n",
      "Hour  1 | Storage:   333.33 | Profit:  3681.59\n",
      "Hour  2 | Storage:   444.44 | Profit:  4748.55\n",
      "Hour  3 | Storage:   481.48 | Profit:  5088.70\n",
      "Hour  4 | Storage:   493.83 | Profit:  5200.11\n",
      "Hour  5 | Storage:   497.94 | Profit:  5228.89\n",
      "Hour  6 | Storage:   499.31 | Profit:  5231.79\n",
      "Hour  7 | Storage:   499.77 | Profit:  5226.08\n",
      "Hour  8 | Storage:   499.92 | Profit:  5217.51\n",
      "Hour  9 | Storage:   499.97 | Profit:  5207.99\n",
      "Hour 10 | Storage:   499.99 | Profit:  5203.14\n",
      "Hour 11 | Storage:   500.00 | Profit:  5193.20\n",
      "Hour 12 | Storage:   500.00 | Profit:  5183.21\n"
     ]
    }
   ],
   "source": [
    "print(\"\\n--- Storage and Profit ---\")\n",
    "for t in model.T:\n",
    "    print(f\"Hour {t:2d} | Storage: {po.value(model.storage[t]):8.2f} | Profit: {po.value(model.profit[t]):8.2f}\")"
   ]
  },
  {
   "cell_type": "code",
   "execution_count": 23,
   "id": "3d93087d",
   "metadata": {},
   "outputs": [
    {
     "name": "stdout",
     "output_type": "stream",
     "text": [
      "GLPSOL: GLPK LP/MIP Solver, v4.65\n",
      "Parameter(s) specified in the command line:\n",
      " --write C:\\Users\\Oulmekki\\AppData\\Local\\Temp\\tmp6dmoop1h.glpk.raw --wglp\n",
      " C:\\Users\\Oulmekki\\AppData\\Local\\Temp\\tmpfvuyyxb1.glpk.glp --cpxlp C:\\Users\\Oulmekki\\AppData\\Local\\Temp\\tmphkajqxj9.pyomo.lp\n",
      "Reading problem data from 'C:\\Users\\Oulmekki\\AppData\\Local\\Temp\\tmphkajqxj9.pyomo.lp'...\n",
      "828 rows, 6360 columns, 13531 non-zeros\n",
      "22444 lines were read\n",
      "Writing problem data to 'C:\\Users\\Oulmekki\\AppData\\Local\\Temp\\tmpfvuyyxb1.glpk.glp'...\n",
      "27022 lines were written\n",
      "GLPK Simplex Optimizer, v4.65\n",
      "828 rows, 6360 columns, 13531 non-zeros\n",
      "Preprocessing...\n",
      "708 rows, 6175 columns, 13166 non-zeros\n",
      "Scaling...\n",
      " A: min|aij| =  1.651e-03  max|aij| =  1.355e+01  ratio =  8.206e+03\n",
      "GM: min|aij| =  1.603e-01  max|aij| =  6.237e+00  ratio =  3.890e+01\n",
      "EQ: min|aij| =  2.571e-02  max|aij| =  1.000e+00  ratio =  3.890e+01\n",
      "Constructing initial basis...\n",
      "Size of triangular part is 700\n",
      "*     0: obj =  -0.000000000e+00 inf =   0.000e+00 (2778)\n",
      "*  2943: obj =   3.238514621e+06 inf =   1.011e-09 (0) 7\n",
      "OPTIMAL LP SOLUTION FOUND\n",
      "Time used:   0.1 secs\n",
      "Memory used: 4.8 Mb (5076972 bytes)\n",
      "Writing basic solution to 'C:\\Users\\Oulmekki\\AppData\\Local\\Temp\\tmp6dmoop1h.glpk.raw'...\n",
      "7197 lines were written\n",
      "# ==========================================================\n",
      "# = Solver Results                                         =\n",
      "# ==========================================================\n",
      "# ----------------------------------------------------------\n",
      "#   Problem Information\n",
      "# ----------------------------------------------------------\n",
      "Problem: \n",
      "- Name: unknown\n",
      "  Lower bound: 3238514.6205005\n",
      "  Upper bound: 3238514.6205005\n",
      "  Number of objectives: 1\n",
      "  Number of constraints: 828\n",
      "  Number of variables: 6360\n",
      "  Number of nonzeros: 13531\n",
      "  Sense: maximize\n",
      "# ----------------------------------------------------------\n",
      "#   Solver Information\n",
      "# ----------------------------------------------------------\n",
      "Solver: \n",
      "- Status: ok\n",
      "  Termination condition: optimal\n",
      "  Statistics: \n",
      "    Branch and bound: \n",
      "      Number of bounded subproblems: 0\n",
      "      Number of created subproblems: 0\n",
      "  Error rc: 0\n",
      "  Time: 0.3368687629699707\n",
      "# ----------------------------------------------------------\n",
      "#   Solution Information\n",
      "# ----------------------------------------------------------\n",
      "Solution: \n",
      "- number of solutions: 0\n",
      "  number of solutions displayed: 0\n",
      "Solver status : ok\n",
      "Termination condition : optimal\n",
      "\n",
      "--- Expected Profit by Hour ---\n",
      "Hour  1 | Expected Profit: 268162.71\n",
      "Hour  2 | Expected Profit: 256554.48\n",
      "Hour  3 | Expected Profit: 283458.71\n",
      "Hour  4 | Expected Profit: 262579.64\n",
      "Hour  5 | Expected Profit: 271024.97\n",
      "Hour  6 | Expected Profit: 273536.61\n",
      "Hour  7 | Expected Profit: 273924.24\n",
      "Hour  8 | Expected Profit: 265548.77\n",
      "Hour  9 | Expected Profit: 255706.39\n",
      "Hour 10 | Expected Profit: 280835.03\n",
      "Hour 11 | Expected Profit: 271457.93\n",
      "Hour 12 | Expected Profit: 275725.15\n"
     ]
    }
   ],
   "source": [
    "N_s = 5               # number of scenarios\n",
    "storage_capacity = 1000\n",
    "initial_storage = 0\n",
    "\n",
    "mu = [0.50 - 0.02 * t for t in range(N_h)]\n",
    "sigma = [6.0] * N_h\n",
    "alpha = [1.5] * N_h\n",
    "\n",
    "# --- Scenario generation ---\n",
    "p = np.array([(q + 1) / (N_q + 2) for q in range(N_q)])\n",
    "rng = np.random.default_rng(seed=42)\n",
    "\n",
    "quantiles = {}\n",
    "match_probs = {}\n",
    "for s in range(1, N_s+1):\n",
    "    for t in range(1, N_h+1):\n",
    "        mu_s = mu[t-1] + rng.normal(0, 0.1)\n",
    "        sigma_s = sigma[t-1] * rng.uniform(0.9, 1.1)\n",
    "        alpha_s = alpha[t-1] + rng.uniform(-0.5, 0.5)\n",
    "        dist = skewnorm(a=alpha_s, loc=mu_s, scale=sigma_s)\n",
    "        q_vals = dist.ppf(p)\n",
    "        for q in range(1, N_q+1):\n",
    "            for s_id in [1, 2]:  # 1 = buy, 2 = sell\n",
    "                quantiles[(s, s_id, t, q)] = q_vals[q-1]\n",
    "                match_probs[(s, s_id, t, q)] = p[q-1] if s_id == 1 else 1 - p[q-1]\n",
    "\n",
    "p_s = {s: 1/N_s for s in range(1, N_s+1)}\n",
    "\n",
    "# --- Model ---\n",
    "model = po.ConcreteModel()\n",
    "model.S = po.RangeSet(1, N_s)\n",
    "model.T = po.RangeSet(1, N_h)\n",
    "model.Q = po.RangeSet(1, N_q)\n",
    "model.Side = po.Set(initialize=[1, 2])  # 1 = buy, 2 = sell\n",
    "\n",
    "model.quantiles = po.Param(model.S, model.Side, model.T, model.Q, initialize=quantiles)\n",
    "model.match_probs = po.Param(model.S, model.Side, model.T, model.Q, initialize=match_probs)\n",
    "model.p_s = po.Param(model.S, initialize=p_s)\n",
    "\n",
    "# --- Variables ---\n",
    "model.volumes = po.Var(model.S, model.Side, model.T, model.Q, domain=po.NonNegativeReals, bounds=(0, 10000))\n",
    "model.charge = po.Var(model.S, model.T, domain=po.NonNegativeReals)\n",
    "model.discharge = po.Var(model.S, model.T, domain=po.NonNegativeReals)\n",
    "model.storage = po.Var(model.S, model.T, domain=po.NonNegativeReals)\n",
    "model.income = po.Var(model.S, model.T, bounds=(0, 1e6))\n",
    "model.expense = po.Var(model.S, model.T, bounds=(0, 1e6))\n",
    "model.profit = po.Var(model.S, model.T, bounds=(-1e6, 1e6))\n",
    "\n",
    "# --- Constraints ---\n",
    "def storage_balance(m, s, t):\n",
    "    if t == 1:\n",
    "        return m.storage[s, t] == initial_storage + m.charge[s, t] - m.discharge[s, t]\n",
    "    return m.storage[s, t] == m.storage[s, t-1] + m.charge[s, t] - m.discharge[s, t]\n",
    "model.storage_balance = po.Constraint(model.S, model.T, rule=storage_balance)\n",
    "\n",
    "def storage_limit(m, s, t):\n",
    "    return m.storage[s, t] <= storage_capacity\n",
    "model.storage_limit = po.Constraint(model.S, model.T, rule=storage_limit)\n",
    "\n",
    "def income_rule(m, s, t):\n",
    "    return m.income[s, t] == sum(m.volumes[s, 2, t, q] * m.match_probs[s, 2, t, q] * m.quantiles[s, 2, t, q] for q in m.Q)\n",
    "model.income_calc = po.Constraint(model.S, model.T, rule=income_rule)\n",
    "\n",
    "def expense_rule(m, s, t):\n",
    "    return m.expense[s, t] == sum(m.volumes[s, 1, t, q] * m.match_probs[s, 1, t, q] * m.quantiles[s, 1, t, q] for q in m.Q)\n",
    "model.expense_calc = po.Constraint(model.S, model.T, rule=expense_rule)\n",
    "\n",
    "def profit_rule(m, s, t):\n",
    "    return m.profit[s, t] == m.income[s, t] - m.expense[s, t]\n",
    "model.profit_calc = po.Constraint(model.S, model.T, rule=profit_rule)\n",
    "\n",
    "def buy_equals_charge(m, s, t):\n",
    "    return sum(m.volumes[s, 1, t, q] * m.match_probs[s, 1, t, q] for q in m.Q) == m.charge[s, t]\n",
    "model.buy_link = po.Constraint(model.S, model.T, rule=buy_equals_charge)\n",
    "\n",
    "def sell_equals_discharge(m, s, t):\n",
    "    return sum(m.volumes[s, 2, t, q] * m.match_probs[s, 2, t, q] for q in m.Q) == m.discharge[s, t]\n",
    "model.sell_link = po.Constraint(model.S, model.T, rule=sell_equals_discharge)\n",
    "\n",
    "# --- Non-anticipativity (multistage part) ---\n",
    "def nonanticip_volumes(m, s, side, q):\n",
    "    if s == 1:\n",
    "        return po.Constraint.Skip\n",
    "    return m.volumes[s, side, 1, q] == m.volumes[1, side, 1, q]\n",
    "model.nonanticip_vol = po.Constraint(model.S, model.Side, model.Q, rule=nonanticip_volumes)\n",
    "\n",
    "def nonanticip_charge(m, s):\n",
    "    if s == 1:\n",
    "        return po.Constraint.Skip\n",
    "    return m.charge[s, 1] == m.charge[1, 1]\n",
    "model.nonanticip_c = po.Constraint(model.S, rule=nonanticip_charge)\n",
    "\n",
    "def nonanticip_discharge(m, s):\n",
    "    if s == 1:\n",
    "        return po.Constraint.Skip\n",
    "    return m.discharge[s, 1] == m.discharge[1, 1]\n",
    "model.nonanticip_d = po.Constraint(model.S, rule=nonanticip_discharge)\n",
    "\n",
    "# --- Objective ---\n",
    "def objective_rule(m):\n",
    "    return sum(m.p_s[s] * sum(m.profit[s, t] for t in m.T) for s in m.S)\n",
    "model.objective = po.Objective(rule=objective_rule, sense=po.maximize)\n",
    "\n",
    "solver = po.SolverFactory(\"glpk\", executable=r\"C:\\Users\\Oulmekki\\Desktop\\glpk-4.65\\w64\\glpsol.exe\")\n",
    "results = solver.solve(model, tee=True)\n",
    "results.write()\n",
    "print(\"Solver status :\", results.solver.status)\n",
    "print(\"Termination condition :\", results.solver.termination_condition)\n",
    "# --- Output ---\n",
    "print(\"\\n--- Expected Profit by Hour ---\")\n",
    "for t in model.T:\n",
    "    avg_profit = sum(po.value(model.p_s[s] * model.profit[s, t]) for s in model.S)\n",
    "    print(f\"Hour {t:2d} | Expected Profit: {avg_profit:.2f}\")"
   ]
  },
  {
   "cell_type": "code",
   "execution_count": 24,
   "id": "9e6adef0",
   "metadata": {},
   "outputs": [],
   "source": [
    "from pyomo.environ import value\n",
    "\n",
    "data = []\n",
    "for s in model.S:\n",
    "    for t in model.T:\n",
    "        data.append({\n",
    "            \"Scenario\": s,\n",
    "            \"Hour\": t,\n",
    "            \"Profit\": value(model.profit[s, t]),\n",
    "            \"Storage\": value(model.storage[s, t]),\n",
    "            \"Charge\": value(model.charge[s, t]),\n",
    "            \"Discharge\": value(model.discharge[s, t])\n",
    "        })\n",
    "\n",
    "df = pd.DataFrame(data)\n"
   ]
  },
  {
   "cell_type": "code",
   "execution_count": 25,
   "id": "06d671a0",
   "metadata": {},
   "outputs": [
    {
     "name": "stdout",
     "output_type": "stream",
     "text": [
      "   Scenario  Hour         Profit  Storage        Charge     Discharge\n",
      "0         1     1  245561.668521   1000.0  63307.692308  62307.692308\n",
      "1         1     2  233431.589012      0.0  62500.000000  63500.000000\n",
      "2         1     3  300310.041519   1000.0  63307.692308  62307.692308\n",
      "3         1     4  244438.007557   1000.0  62500.000000  62500.000000\n",
      "4         1     5  291536.436275      0.0  62500.000000  63500.000000\n"
     ]
    }
   ],
   "source": [
    "print(df.head())  "
   ]
  },
  {
   "cell_type": "code",
   "execution_count": 33,
   "id": "903c566b",
   "metadata": {},
   "outputs": [
    {
     "name": "stdout",
     "output_type": "stream",
     "text": [
      "\n",
      "Hour |  Med. Price  |  Buy Vol   |  Sell Vol  |   Spent    |   Earned   ||   Profit   ||  Cum. Profit  \n",
      "--------------------------------------------------------------------------------------------------------------\n",
      " 1   |     3.80     |  63307.69  |  62307.69  | 122605.87  | 390768.57  || 268162.71  ||   268162.71   \n",
      " 2   |     3.88     |  62500.00  |  62900.00  | 132998.43  | 389552.91  || 256554.48  ||   524717.18   \n",
      " 3   |     4.07     |  62661.54  |  63061.54  | 133396.68  | 416855.39  || 283458.71  ||   808175.89   \n",
      " 4   |     3.84     |  62661.54  |  62461.54  | 127191.93  | 389771.57  || 262579.64  ||   1070755.53  \n",
      " 5   |     3.90     |  62823.08  |  62823.08  | 127628.77  | 398653.74  || 271024.97  ||   1341780.51  \n",
      " 6   |     3.83     |  62661.54  |  62661.54  | 121234.56  | 394771.17  || 273536.61  ||   1615317.12  \n",
      " 7   |     3.88     |  62823.08  |  62623.08  | 124628.70  | 398552.93  || 273924.24  ||   1889241.35  \n",
      " 8   |     3.80     |  62661.54  |  62861.54  | 124396.43  | 389945.20  || 265548.77  ||   2154790.13  \n",
      " 9   |     3.62     |  62984.62  |  62384.62  | 116315.89  | 372022.27  || 255706.39  ||   2410496.51  \n",
      " 10  |     3.97     |  62500.00  |  62900.00  | 127261.57  | 408096.61  || 280835.03  ||   2691331.55  \n",
      " 11  |     3.87     |  62823.08  |  62823.08  | 125920.37  | 397378.30  || 271457.93  ||   2962789.47  \n",
      " 12  |     3.86     |  62500.00  |  63100.00  | 122815.03  | 398540.18  || 275725.15  ||   3238514.62  \n"
     ]
    }
   ],
   "source": [
    "print(f\"\\n{'Hour':^4} | {'Med. Price':^12} | {'Buy Vol':^10} | {'Sell Vol':^10} | {'Spent':^10} | {'Earned':^10} || {'Profit':^10} || {'Cum. Profit':^14}\")\n",
    "print(\"-\" * 110)\n",
    "\n",
    "cum_profit = 0.0\n",
    "q_mid = (N_q + 1) // 2  # quantile médian\n",
    "\n",
    "for t in model.T:\n",
    "    t_ = po.value(t)\n",
    "\n",
    "    # Prix médian (side=2 = vente)\n",
    "    median_price = np.mean([\n",
    "        po.value(model.quantiles[s, 2, t_, q_mid])\n",
    "        for s in model.S\n",
    "    ])\n",
    "\n",
    "    # Volume acheté total\n",
    "    buy_vol = sum([\n",
    "        po.value(model.p_s[s]) * sum(\n",
    "            po.value(model.volumes[s, 1, t_, q]) * po.value(model.match_probs[s, 1, t_, q])\n",
    "            for q in model.Q\n",
    "        )\n",
    "        for s in model.S\n",
    "    ])\n",
    "\n",
    "    # Volume vendu total\n",
    "    sell_vol = sum([\n",
    "        po.value(model.p_s[s]) * sum(\n",
    "            po.value(model.volumes[s, 2, t_, q]) * po.value(model.match_probs[s, 2, t_, q])\n",
    "            for q in model.Q\n",
    "        )\n",
    "        for s in model.S\n",
    "    ])\n",
    "\n",
    "    # Dépenses, revenus et profits\n",
    "    spent = sum(po.value(model.p_s[s]) * po.value(model.expense[s, t_]) for s in model.S)\n",
    "    earned = sum(po.value(model.p_s[s]) * po.value(model.income[s, t_]) for s in model.S)\n",
    "    profit = earned - spent\n",
    "    cum_profit += profit\n",
    "\n",
    "    print(f\"{t_:^4} | {median_price:^12.2f} | {buy_vol:^10.2f} | {sell_vol:^10.2f} | \"\n",
    "          f\"{spent:^10.2f} | {earned:^10.2f} || {profit:^10.2f} || {cum_profit:^14.2f}\")\n"
   ]
  }
 ],
 "metadata": {
  "kernelspec": {
   "display_name": "spot",
   "language": "python",
   "name": "python3"
  },
  "language_info": {
   "codemirror_mode": {
    "name": "ipython",
    "version": 3
   },
   "file_extension": ".py",
   "mimetype": "text/x-python",
   "name": "python",
   "nbconvert_exporter": "python",
   "pygments_lexer": "ipython3",
   "version": "3.13.2"
  }
 },
 "nbformat": 4,
 "nbformat_minor": 5
}
